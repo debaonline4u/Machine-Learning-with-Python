{
  "nbformat": 4,
  "nbformat_minor": 0,
  "metadata": {
    "colab": {
      "name": "Untitled0.ipynb",
      "provenance": [],
      "include_colab_link": true
    },
    "kernelspec": {
      "name": "python3",
      "display_name": "Python 3"
    },
    "language_info": {
      "name": "python"
    }
  },
  "cells": [
    {
      "cell_type": "markdown",
      "metadata": {
        "id": "view-in-github",
        "colab_type": "text"
      },
      "source": [
        "<a href=\"https://colab.research.google.com/github/debaonline4u/Machine-Learning-with-Python/blob/main/Encoder%20Decoder%20for%20Time%20series%20forecasting.ipynb\" target=\"_parent\"><img src=\"https://colab.research.google.com/assets/colab-badge.svg\" alt=\"Open In Colab\"/></a>"
      ]
    },
    {
      "cell_type": "code",
      "execution_count": null,
      "metadata": {
        "id": "w7C2_c_iauR0"
      },
      "outputs": [],
      "source": [
        "import pandas as pd\n",
        "import numpy as np\n",
        "import tensorflow as tf\n",
        "from sklearn import preprocessing\n",
        "import matplotlib.pyplot as plt\n",
        "tf.random.set_seed(123)\n",
        "np.random.seed(123)"
      ]
    },
    {
      "cell_type": "code",
      "source": [
        "url = f\"https://raw.githubusercontent.com/Apress/hands-on-time-series-analylsis-python/master/Data/Metro_Interstate_Traffic_Volume.csv\""
      ],
      "metadata": {
        "id": "f1zW-TvRi19P"
      },
      "execution_count": null,
      "outputs": []
    },
    {
      "cell_type": "code",
      "source": [
        "data = pd.read_csv(url)"
      ],
      "metadata": {
        "id": "5J5U8WnfcS7i"
      },
      "execution_count": null,
      "outputs": []
    },
    {
      "cell_type": "code",
      "source": [
        "data.head()"
      ],
      "metadata": {
        "colab": {
          "base_uri": "https://localhost:8080/",
          "height": 400
        },
        "id": "XxxLLA6xdVGd",
        "outputId": "a2749575-6143-4c0a-a2ea-6919868ebb06"
      },
      "execution_count": null,
      "outputs": [
        {
          "output_type": "execute_result",
          "data": {
            "text/html": [
              "<div>\n",
              "<style scoped>\n",
              "    .dataframe tbody tr th:only-of-type {\n",
              "        vertical-align: middle;\n",
              "    }\n",
              "\n",
              "    .dataframe tbody tr th {\n",
              "        vertical-align: top;\n",
              "    }\n",
              "\n",
              "    .dataframe thead th {\n",
              "        text-align: right;\n",
              "    }\n",
              "</style>\n",
              "<table border=\"1\" class=\"dataframe\">\n",
              "  <thead>\n",
              "    <tr style=\"text-align: right;\">\n",
              "      <th></th>\n",
              "      <th>holiday</th>\n",
              "      <th>temp</th>\n",
              "      <th>rain_1h</th>\n",
              "      <th>snow_1h</th>\n",
              "      <th>clouds_all</th>\n",
              "      <th>weather_main</th>\n",
              "      <th>weather_description</th>\n",
              "      <th>date_time</th>\n",
              "      <th>traffic_volume</th>\n",
              "    </tr>\n",
              "  </thead>\n",
              "  <tbody>\n",
              "    <tr>\n",
              "      <th>0</th>\n",
              "      <td>None</td>\n",
              "      <td>288.28</td>\n",
              "      <td>0.0</td>\n",
              "      <td>0.0</td>\n",
              "      <td>40</td>\n",
              "      <td>Clouds</td>\n",
              "      <td>scattered clouds</td>\n",
              "      <td>2012-10-02 09:00:00</td>\n",
              "      <td>5545</td>\n",
              "    </tr>\n",
              "    <tr>\n",
              "      <th>1</th>\n",
              "      <td>None</td>\n",
              "      <td>289.36</td>\n",
              "      <td>0.0</td>\n",
              "      <td>0.0</td>\n",
              "      <td>75</td>\n",
              "      <td>Clouds</td>\n",
              "      <td>broken clouds</td>\n",
              "      <td>2012-10-02 10:00:00</td>\n",
              "      <td>4516</td>\n",
              "    </tr>\n",
              "    <tr>\n",
              "      <th>2</th>\n",
              "      <td>None</td>\n",
              "      <td>289.58</td>\n",
              "      <td>0.0</td>\n",
              "      <td>0.0</td>\n",
              "      <td>90</td>\n",
              "      <td>Clouds</td>\n",
              "      <td>overcast clouds</td>\n",
              "      <td>2012-10-02 11:00:00</td>\n",
              "      <td>4767</td>\n",
              "    </tr>\n",
              "    <tr>\n",
              "      <th>3</th>\n",
              "      <td>None</td>\n",
              "      <td>290.13</td>\n",
              "      <td>0.0</td>\n",
              "      <td>0.0</td>\n",
              "      <td>90</td>\n",
              "      <td>Clouds</td>\n",
              "      <td>overcast clouds</td>\n",
              "      <td>2012-10-02 12:00:00</td>\n",
              "      <td>5026</td>\n",
              "    </tr>\n",
              "    <tr>\n",
              "      <th>4</th>\n",
              "      <td>None</td>\n",
              "      <td>291.14</td>\n",
              "      <td>0.0</td>\n",
              "      <td>0.0</td>\n",
              "      <td>75</td>\n",
              "      <td>Clouds</td>\n",
              "      <td>broken clouds</td>\n",
              "      <td>2012-10-02 13:00:00</td>\n",
              "      <td>4918</td>\n",
              "    </tr>\n",
              "  </tbody>\n",
              "</table>\n",
              "</div>"
            ],
            "text/plain": [
              "  holiday    temp  ...            date_time  traffic_volume\n",
              "0    None  288.28  ...  2012-10-02 09:00:00            5545\n",
              "1    None  289.36  ...  2012-10-02 10:00:00            4516\n",
              "2    None  289.58  ...  2012-10-02 11:00:00            4767\n",
              "3    None  290.13  ...  2012-10-02 12:00:00            5026\n",
              "4    None  291.14  ...  2012-10-02 13:00:00            4918\n",
              "\n",
              "[5 rows x 9 columns]"
            ]
          },
          "metadata": {},
          "execution_count": 24
        }
      ]
    },
    {
      "cell_type": "code",
      "source": [
        "data.describe()"
      ],
      "metadata": {
        "colab": {
          "base_uri": "https://localhost:8080/",
          "height": 300
        },
        "id": "mLY-Ca7nmkV-",
        "outputId": "c99b768a-182a-4065-d42b-4030dd76911b"
      },
      "execution_count": null,
      "outputs": [
        {
          "output_type": "execute_result",
          "data": {
            "text/html": [
              "<div>\n",
              "<style scoped>\n",
              "    .dataframe tbody tr th:only-of-type {\n",
              "        vertical-align: middle;\n",
              "    }\n",
              "\n",
              "    .dataframe tbody tr th {\n",
              "        vertical-align: top;\n",
              "    }\n",
              "\n",
              "    .dataframe thead th {\n",
              "        text-align: right;\n",
              "    }\n",
              "</style>\n",
              "<table border=\"1\" class=\"dataframe\">\n",
              "  <thead>\n",
              "    <tr style=\"text-align: right;\">\n",
              "      <th></th>\n",
              "      <th>temp</th>\n",
              "      <th>rain_1h</th>\n",
              "      <th>snow_1h</th>\n",
              "      <th>clouds_all</th>\n",
              "      <th>traffic_volume</th>\n",
              "    </tr>\n",
              "  </thead>\n",
              "  <tbody>\n",
              "    <tr>\n",
              "      <th>count</th>\n",
              "      <td>48204.000000</td>\n",
              "      <td>48204.000000</td>\n",
              "      <td>48204.000000</td>\n",
              "      <td>48204.000000</td>\n",
              "      <td>48204.000000</td>\n",
              "    </tr>\n",
              "    <tr>\n",
              "      <th>mean</th>\n",
              "      <td>281.205870</td>\n",
              "      <td>0.334264</td>\n",
              "      <td>0.000222</td>\n",
              "      <td>49.362231</td>\n",
              "      <td>3259.818355</td>\n",
              "    </tr>\n",
              "    <tr>\n",
              "      <th>std</th>\n",
              "      <td>13.338232</td>\n",
              "      <td>44.789133</td>\n",
              "      <td>0.008168</td>\n",
              "      <td>39.015750</td>\n",
              "      <td>1986.860670</td>\n",
              "    </tr>\n",
              "    <tr>\n",
              "      <th>min</th>\n",
              "      <td>0.000000</td>\n",
              "      <td>0.000000</td>\n",
              "      <td>0.000000</td>\n",
              "      <td>0.000000</td>\n",
              "      <td>0.000000</td>\n",
              "    </tr>\n",
              "    <tr>\n",
              "      <th>25%</th>\n",
              "      <td>272.160000</td>\n",
              "      <td>0.000000</td>\n",
              "      <td>0.000000</td>\n",
              "      <td>1.000000</td>\n",
              "      <td>1193.000000</td>\n",
              "    </tr>\n",
              "    <tr>\n",
              "      <th>50%</th>\n",
              "      <td>282.450000</td>\n",
              "      <td>0.000000</td>\n",
              "      <td>0.000000</td>\n",
              "      <td>64.000000</td>\n",
              "      <td>3380.000000</td>\n",
              "    </tr>\n",
              "    <tr>\n",
              "      <th>75%</th>\n",
              "      <td>291.806000</td>\n",
              "      <td>0.000000</td>\n",
              "      <td>0.000000</td>\n",
              "      <td>90.000000</td>\n",
              "      <td>4933.000000</td>\n",
              "    </tr>\n",
              "    <tr>\n",
              "      <th>max</th>\n",
              "      <td>310.070000</td>\n",
              "      <td>9831.300000</td>\n",
              "      <td>0.510000</td>\n",
              "      <td>100.000000</td>\n",
              "      <td>7280.000000</td>\n",
              "    </tr>\n",
              "  </tbody>\n",
              "</table>\n",
              "</div>"
            ],
            "text/plain": [
              "               temp       rain_1h       snow_1h    clouds_all  traffic_volume\n",
              "count  48204.000000  48204.000000  48204.000000  48204.000000    48204.000000\n",
              "mean     281.205870      0.334264      0.000222     49.362231     3259.818355\n",
              "std       13.338232     44.789133      0.008168     39.015750     1986.860670\n",
              "min        0.000000      0.000000      0.000000      0.000000        0.000000\n",
              "25%      272.160000      0.000000      0.000000      1.000000     1193.000000\n",
              "50%      282.450000      0.000000      0.000000     64.000000     3380.000000\n",
              "75%      291.806000      0.000000      0.000000     90.000000     4933.000000\n",
              "max      310.070000   9831.300000      0.510000    100.000000     7280.000000"
            ]
          },
          "metadata": {},
          "execution_count": 20
        }
      ]
    },
    {
      "cell_type": "code",
      "source": [
        "data.drop_duplicates(subset=['date_time'], keep=False,inplace=True)"
      ],
      "metadata": {
        "id": "u9iP489Cm8US"
      },
      "execution_count": null,
      "outputs": []
    },
    {
      "cell_type": "code",
      "source": [
        "validate = data['traffic_volume'].tail(10)\n",
        "data = data.drop(data['traffic_volume'].tail(10).index)"
      ],
      "metadata": {
        "id": "mrqn44F5nVyu"
      },
      "execution_count": null,
      "outputs": []
    },
    {
      "cell_type": "code",
      "source": [
        "uni_data = data['traffic_volume']\n",
        "uni_data.index = data['date_time']\n",
        "uni_data.head()"
      ],
      "metadata": {
        "colab": {
          "base_uri": "https://localhost:8080/"
        },
        "id": "pun1yWTepSRt",
        "outputId": "3c34e146-dc06-407a-fe8e-5a95313ddf60"
      },
      "execution_count": null,
      "outputs": [
        {
          "output_type": "execute_result",
          "data": {
            "text/plain": [
              "date_time\n",
              "2012-10-02 09:00:00    5545\n",
              "2012-10-02 10:00:00    4516\n",
              "2012-10-02 11:00:00    4767\n",
              "2012-10-02 12:00:00    5026\n",
              "2012-10-02 13:00:00    4918\n",
              "Name: traffic_volume, dtype: int64"
            ]
          },
          "metadata": {},
          "execution_count": 40
        }
      ]
    },
    {
      "cell_type": "code",
      "source": [
        "uni_data = uni_data.values\n",
        "scaler_x = preprocessing.MinMaxScaler()\n",
        "x_rescaled = scaler_x.fit_transform(uni_data.reshape(-1, 1))"
      ],
      "metadata": {
        "id": "tknWNmLbp8oR"
      },
      "execution_count": null,
      "outputs": []
    },
    {
      "cell_type": "code",
      "source": [
        "def custom_ts_univariate_data_prep(dataset, start, end, window, horizon):\n",
        "  X = []\n",
        "  y = []\n",
        "\n",
        "  start = start + window\n",
        "  if end is None:\n",
        "    end = len(dataset) - horizon\n",
        "\n",
        "  for i in range(start, end):\n",
        "    indicesx = range(i-window, i)\n",
        "    X.append(np.reshape(dataset[indicesx], (window, 1)))\n",
        "    indicesy = range(i,i+horizon)\n",
        "    y.append(dataset[indicesy])\n",
        "  return np.array(X), np.array(y)"
      ],
      "metadata": {
        "id": "QVHeZXptqA46"
      },
      "execution_count": null,
      "outputs": []
    },
    {
      "cell_type": "code",
      "source": [
        "univar_hist_window = 48\n",
        "horizon = 10\n",
        "TRAIN_SPLIT = 30000\n",
        "x_train_uni, y_train_uni = custom_ts_univariate_data_prep(x_rescaled, 0, TRAIN_SPLIT,univar_hist_window, horizon)\n",
        "x_val_uni, y_val_uni = custom_ts_univariate_data_prep(x_rescaled, TRAIN_SPLIT, None,univar_hist_window,horizon)"
      ],
      "metadata": {
        "id": "87qHiXfKqYov"
      },
      "execution_count": null,
      "outputs": []
    },
    {
      "cell_type": "code",
      "source": [
        "print ('Single window of past history')\n",
        "print (x_train_uni[0])\n",
        "print ('\\n Target horizon')\n",
        "print (y_train_uni[0])"
      ],
      "metadata": {
        "colab": {
          "base_uri": "https://localhost:8080/"
        },
        "id": "ayrlaT7BqhUb",
        "outputId": "2039f95d-79a4-4b8d-8dde-01949fc00515"
      },
      "execution_count": null,
      "outputs": [
        {
          "output_type": "stream",
          "name": "stdout",
          "text": [
            "Single window of past history\n",
            "[[0.76167582]\n",
            " [0.62032967]\n",
            " [0.65480769]\n",
            " [0.69038462]\n",
            " [0.67554945]\n",
            " [0.71167582]\n",
            " [0.76703297]\n",
            " [0.82623626]\n",
            " [0.79546703]\n",
            " [0.65521978]\n",
            " [0.48612637]\n",
            " [0.38241758]\n",
            " [0.32431319]\n",
            " [0.21002747]\n",
            " [0.13228022]\n",
            " [0.06950549]\n",
            " [0.04409341]\n",
            " [0.0375    ]\n",
            " [0.05041209]\n",
            " [0.11181319]\n",
            " [0.37335165]\n",
            " [0.77925824]\n",
            " [0.89436813]\n",
            " [0.75151099]\n",
            " [0.70013736]\n",
            " [0.67129121]\n",
            " [0.7331044 ]\n",
            " [0.78186813]\n",
            " [0.84299451]\n",
            " [0.63502747]\n",
            " [0.49326923]\n",
            " [0.39807692]\n",
            " [0.36222527]\n",
            " [0.24409341]\n",
            " [0.13942308]\n",
            " [0.08214286]\n",
            " [0.05068681]\n",
            " [0.04285714]\n",
            " [0.05041209]\n",
            " [0.1146978 ]\n",
            " [0.37445055]\n",
            " [0.78145604]\n",
            " [0.96016484]\n",
            " [0.82211538]\n",
            " [0.72925824]\n",
            " [0.63228022]\n",
            " [0.67087912]\n",
            " [0.7010989 ]]\n",
            "\n",
            " Target horizon\n",
            "[[0.71126374]\n",
            " [0.75563187]\n",
            " [0.78475275]\n",
            " [0.86428571]\n",
            " [0.83200549]\n",
            " [0.67403846]\n",
            " [0.48118132]\n",
            " [0.41717033]\n",
            " [0.38763736]\n",
            " [0.27362637]]\n"
          ]
        }
      ]
    },
    {
      "cell_type": "code",
      "source": [
        "BATCH_SIZE = 256\n",
        "BUFFER_SIZE = 150\n",
        "train_univariate = tf.data.Dataset.from_tensor_slices((x_train_uni, y_train_uni))\n",
        "train_univariate = train_univariate.cache().shuffle(BUFFER_SIZE).batch(BATCH_SIZE).repeat()\n",
        "\n",
        "val_univariate = tf.data.Dataset.from_tensor_slices((x_val_uni, y_val_uni))\n",
        "val_univariate = val_univariate.batch(BATCH_SIZE).repeat()"
      ],
      "metadata": {
        "id": "wak7xGrqqt2k"
      },
      "execution_count": null,
      "outputs": []
    },
    {
      "cell_type": "code",
      "source": [
        "model = tf.keras.models.Sequential([\n",
        "    tf.keras.layers.LSTM(100, input_shape=x_train_uni.shape[-2:], return_sequences=True),\n",
        "    tf.keras.layers.LSTM(units=50,return_sequences=True),\n",
        "    tf.keras.layers.LSTM(units=15),\n",
        "    tf.keras.layers.RepeatVector(y_train_uni.shape[1]), \n",
        "    tf.keras.layers.LSTM(units=100,return_sequences=True),\n",
        "    tf.keras.layers.LSTM(units=50,return_sequences=True),\n",
        "    tf.keras.layers.TimeDistributed(tf.keras.layers.Dense(units=1))\n",
        "])\n",
        "ED_lstm_model.compile(optimizer='adam', loss='mse')"
      ],
      "metadata": {
        "id": "Eu40jBcaq1qf"
      },
      "execution_count": null,
      "outputs": []
    },
    {
      "cell_type": "code",
      "source": [
        "enco_deco.summary()"
      ],
      "metadata": {
        "colab": {
          "base_uri": "https://localhost:8080/"
        },
        "id": "cvIF9x_Kq9Dj",
        "outputId": "63c1ba13-02e9-40e6-9961-a2df992d5a99"
      },
      "execution_count": null,
      "outputs": [
        {
          "output_type": "stream",
          "name": "stdout",
          "text": [
            "Model: \"sequential\"\n",
            "_________________________________________________________________\n",
            " Layer (type)                Output Shape              Param #   \n",
            "=================================================================\n",
            " lstm (LSTM)                 (None, 48, 100)           40800     \n",
            "                                                                 \n",
            " lstm_1 (LSTM)               (None, 48, 50)            30200     \n",
            "                                                                 \n",
            " lstm_2 (LSTM)               (None, 15)                3960      \n",
            "                                                                 \n",
            " repeat_vector (RepeatVector  (None, 10, 15)           0         \n",
            " )                                                               \n",
            "                                                                 \n",
            " lstm_3 (LSTM)               (None, 10, 100)           46400     \n",
            "                                                                 \n",
            " lstm_4 (LSTM)               (None, 10, 50)            30200     \n",
            "                                                                 \n",
            " time_distributed (TimeDistr  (None, 10, 1)            51        \n",
            " ibuted)                                                         \n",
            "                                                                 \n",
            "=================================================================\n",
            "Total params: 151,611\n",
            "Trainable params: 151,611\n",
            "Non-trainable params: 0\n",
            "_________________________________________________________________\n"
          ]
        }
      ]
    },
    {
      "cell_type": "code",
      "source": [
        "EVALUATION_INTERVAL = 100\n",
        "EPOCHS = 150\n",
        "history = ED_lstm_model.fit(train_univariate, epochs=150,steps_per_epoch=100,validation_data=val_univariate, validation_steps=50,verbose =1)"
      ],
      "metadata": {
        "colab": {
          "base_uri": "https://localhost:8080/"
        },
        "id": "fXUgJQjfrdqW",
        "outputId": "5cd93d8b-5070-4c2b-d5d8-d751ed90c3ec"
      },
      "execution_count": null,
      "outputs": [
        {
          "output_type": "stream",
          "name": "stdout",
          "text": [
            "Epoch 1/150\n",
            "100/100 [==============================] - 55s 450ms/step - loss: 0.0958 - val_loss: 0.0709\n",
            "Epoch 2/150\n",
            "100/100 [==============================] - 43s 431ms/step - loss: 0.0605 - val_loss: 0.0573\n",
            "Epoch 3/150\n",
            "100/100 [==============================] - 43s 428ms/step - loss: 0.0537 - val_loss: 0.0753\n",
            "Epoch 4/150\n",
            "100/100 [==============================] - 43s 430ms/step - loss: 0.0491 - val_loss: 0.0461\n",
            "Epoch 5/150\n",
            "100/100 [==============================] - 43s 431ms/step - loss: 0.0499 - val_loss: 0.0424\n",
            "Epoch 6/150\n",
            "100/100 [==============================] - 43s 432ms/step - loss: 0.0455 - val_loss: 0.0418\n",
            "Epoch 7/150\n",
            "100/100 [==============================] - 43s 432ms/step - loss: 0.0441 - val_loss: 0.0359\n",
            "Epoch 8/150\n",
            "100/100 [==============================] - 43s 430ms/step - loss: 0.0436 - val_loss: 0.0357\n",
            "Epoch 9/150\n",
            "100/100 [==============================] - 43s 431ms/step - loss: 0.0418 - val_loss: 0.0461\n",
            "Epoch 10/150\n",
            "100/100 [==============================] - 43s 434ms/step - loss: 0.0383 - val_loss: 0.0629\n",
            "Epoch 11/150\n",
            "100/100 [==============================] - 43s 431ms/step - loss: 0.0361 - val_loss: 0.0329\n",
            "Epoch 12/150\n",
            "100/100 [==============================] - 43s 434ms/step - loss: 0.0381 - val_loss: 0.0337\n",
            "Epoch 13/150\n",
            "100/100 [==============================] - 43s 433ms/step - loss: 0.0351 - val_loss: 0.0333\n",
            "Epoch 14/150\n",
            "100/100 [==============================] - 43s 431ms/step - loss: 0.0351 - val_loss: 0.0284\n",
            "Epoch 15/150\n",
            "100/100 [==============================] - 43s 432ms/step - loss: 0.0350 - val_loss: 0.0298\n",
            "Epoch 16/150\n",
            "100/100 [==============================] - 43s 430ms/step - loss: 0.0341 - val_loss: 0.0353\n",
            "Epoch 17/150\n",
            "100/100 [==============================] - 43s 432ms/step - loss: 0.0311 - val_loss: 0.0426\n",
            "Epoch 18/150\n",
            "100/100 [==============================] - 43s 429ms/step - loss: 0.0304 - val_loss: 0.0301\n",
            "Epoch 19/150\n",
            "100/100 [==============================] - 43s 429ms/step - loss: 0.0328 - val_loss: 0.0272\n",
            "Epoch 20/150\n",
            "100/100 [==============================] - 43s 434ms/step - loss: 0.0299 - val_loss: 0.0308\n",
            "Epoch 21/150\n",
            "100/100 [==============================] - 43s 428ms/step - loss: 0.0308 - val_loss: 0.0262\n",
            "Epoch 22/150\n",
            "100/100 [==============================] - 43s 430ms/step - loss: 0.0307 - val_loss: 0.0259\n",
            "Epoch 23/150\n",
            "100/100 [==============================] - 43s 429ms/step - loss: 0.0304 - val_loss: 0.0289\n",
            "Epoch 24/150\n",
            "100/100 [==============================] - 43s 432ms/step - loss: 0.0277 - val_loss: 0.0308\n",
            "Epoch 25/150\n",
            "100/100 [==============================] - 43s 435ms/step - loss: 0.0279 - val_loss: 0.0258\n",
            "Epoch 26/150\n",
            "100/100 [==============================] - 43s 430ms/step - loss: 0.0290 - val_loss: 0.0275\n",
            "Epoch 27/150\n",
            "100/100 [==============================] - 43s 432ms/step - loss: 0.0275 - val_loss: 0.0263\n",
            "Epoch 28/150\n",
            "100/100 [==============================] - 43s 431ms/step - loss: 0.0287 - val_loss: 0.0250\n",
            "Epoch 29/150\n",
            "100/100 [==============================] - 43s 430ms/step - loss: 0.0283 - val_loss: 0.0259\n",
            "Epoch 30/150\n",
            "100/100 [==============================] - 43s 431ms/step - loss: 0.0285 - val_loss: 0.0258\n",
            "Epoch 31/150\n",
            "100/100 [==============================] - 43s 431ms/step - loss: 0.0254 - val_loss: 0.0256\n",
            "Epoch 32/150\n",
            "100/100 [==============================] - 43s 432ms/step - loss: 0.0268 - val_loss: 0.0303\n",
            "Epoch 33/150\n",
            "100/100 [==============================] - 43s 431ms/step - loss: 0.0266 - val_loss: 0.0250\n",
            "Epoch 34/150\n",
            "100/100 [==============================] - ETA: 0s - loss: 0.0262Epoch 35/150\n",
            "100/100 [==============================] - 43s 427ms/step - loss: 0.0274 - val_loss: 0.0250\n",
            "Epoch 36/150\n",
            "100/100 [==============================] - 43s 428ms/step - loss: 0.0269 - val_loss: 0.0268\n",
            "Epoch 37/150\n",
            "100/100 [==============================] - 43s 431ms/step - loss: 0.0271 - val_loss: 0.0256\n",
            "Epoch 38/150\n",
            "100/100 [==============================] - 43s 434ms/step - loss: 0.0238 - val_loss: 0.0256\n",
            "Epoch 39/150\n",
            "100/100 [==============================] - 43s 433ms/step - loss: 0.0260 - val_loss: 0.0305\n",
            "Epoch 40/150\n",
            "100/100 [==============================] - 44s 436ms/step - loss: 0.0253 - val_loss: 0.0238\n",
            "Epoch 41/150\n",
            "100/100 [==============================] - 43s 434ms/step - loss: 0.0249 - val_loss: 0.0258\n",
            "Epoch 42/150\n",
            "100/100 [==============================] - 44s 436ms/step - loss: 0.0259 - val_loss: 0.0249\n",
            "Epoch 43/150\n",
            "100/100 [==============================] - 44s 439ms/step - loss: 0.0254 - val_loss: 0.0260\n",
            "Epoch 44/150\n",
            "100/100 [==============================] - 44s 442ms/step - loss: 0.0259 - val_loss: 0.0277\n",
            "Epoch 45/150\n",
            "100/100 [==============================] - 44s 441ms/step - loss: 0.0225 - val_loss: 0.0266\n",
            "Epoch 46/150\n",
            "100/100 [==============================] - 44s 440ms/step - loss: 0.0254 - val_loss: 0.0276\n",
            "Epoch 47/150\n",
            "100/100 [==============================] - 44s 441ms/step - loss: 0.0245 - val_loss: 0.0242\n",
            "Epoch 48/150\n",
            "100/100 [==============================] - 44s 441ms/step - loss: 0.0239 - val_loss: 0.0252\n",
            "Epoch 49/150\n",
            "100/100 [==============================] - 44s 439ms/step - loss: 0.0253 - val_loss: 0.0233\n",
            "Epoch 50/150\n",
            "100/100 [==============================] - 44s 439ms/step - loss: 0.0247 - val_loss: 0.0256\n",
            "Epoch 51/150\n",
            "100/100 [==============================] - 44s 438ms/step - loss: 0.0252 - val_loss: 0.0328\n",
            "Epoch 52/150\n",
            "100/100 [==============================] - 44s 436ms/step - loss: 0.0217 - val_loss: 0.0257\n",
            "Epoch 53/150\n",
            "100/100 [==============================] - 44s 441ms/step - loss: 0.0247 - val_loss: 0.0236\n",
            "Epoch 54/150\n",
            "100/100 [==============================] - 45s 447ms/step - loss: 0.0230 - val_loss: 0.0245\n",
            "Epoch 55/150\n",
            "100/100 [==============================] - 44s 441ms/step - loss: 0.0230 - val_loss: 0.0231\n",
            "Epoch 56/150\n",
            "100/100 [==============================] - 44s 439ms/step - loss: 0.0240 - val_loss: 0.0222\n",
            "Epoch 57/150\n",
            "100/100 [==============================] - 43s 436ms/step - loss: 0.0243 - val_loss: 0.0259\n",
            "Epoch 58/150\n",
            "100/100 [==============================] - 44s 439ms/step - loss: 0.0249 - val_loss: 0.0344\n",
            "Epoch 59/150\n",
            "100/100 [==============================] - 44s 440ms/step - loss: 0.0214 - val_loss: 0.0239\n",
            "Epoch 60/150\n",
            "100/100 [==============================] - 44s 436ms/step - loss: 0.0241 - val_loss: 0.0242\n",
            "Epoch 61/150\n",
            "100/100 [==============================] - 44s 444ms/step - loss: 0.0224 - val_loss: 0.0251\n",
            "Epoch 62/150\n",
            "100/100 [==============================] - 44s 441ms/step - loss: 0.0224 - val_loss: 0.0222\n",
            "Epoch 63/150\n",
            "100/100 [==============================] - 44s 442ms/step - loss: 0.0232 - val_loss: 0.0227\n",
            "Epoch 64/150\n",
            "100/100 [==============================] - 44s 439ms/step - loss: 0.0228 - val_loss: 0.0262\n",
            "Epoch 65/150\n",
            "100/100 [==============================] - 44s 443ms/step - loss: 0.0233 - val_loss: 0.0324\n",
            "Epoch 66/150\n",
            "100/100 [==============================] - 44s 439ms/step - loss: 0.0207 - val_loss: 0.0239\n",
            "Epoch 67/150\n",
            "100/100 [==============================] - 44s 437ms/step - loss: 0.0234 - val_loss: 0.0254\n",
            "Epoch 68/150\n",
            "100/100 [==============================] - 43s 435ms/step - loss: 0.0214 - val_loss: 0.0245\n",
            "Epoch 69/150\n",
            "100/100 [==============================] - 43s 432ms/step - loss: 0.0218 - val_loss: 0.0231\n",
            "Epoch 70/150\n",
            "100/100 [==============================] - 43s 434ms/step - loss: 0.0227 - val_loss: 0.0237\n",
            "Epoch 71/150\n",
            "100/100 [==============================] - 43s 433ms/step - loss: 0.0225 - val_loss: 0.0260\n",
            "Epoch 72/150\n",
            "100/100 [==============================] - 44s 436ms/step - loss: 0.0218 - val_loss: 0.0296\n",
            "Epoch 73/150\n",
            "100/100 [==============================] - 43s 433ms/step - loss: 0.0206 - val_loss: 0.0244\n",
            "Epoch 74/150\n",
            "100/100 [==============================] - 43s 433ms/step - loss: 0.0225 - val_loss: 0.0262\n",
            "Epoch 75/150\n",
            "100/100 [==============================] - 44s 436ms/step - loss: 0.0216 - val_loss: 0.0254\n",
            "Epoch 76/150\n",
            "100/100 [==============================] - 43s 432ms/step - loss: 0.0215 - val_loss: 0.0238\n",
            "Epoch 77/150\n",
            "100/100 [==============================] - 44s 437ms/step - loss: 0.0217 - val_loss: 0.0244\n",
            "Epoch 78/150\n",
            "100/100 [==============================] - 43s 434ms/step - loss: 0.0217 - val_loss: 0.0268\n",
            "Epoch 79/150\n",
            "100/100 [==============================] - 44s 439ms/step - loss: 0.0205 - val_loss: 0.0257\n",
            "Epoch 80/150\n",
            "100/100 [==============================] - 43s 434ms/step - loss: 0.0197 - val_loss: 0.0254\n",
            "Epoch 81/150\n",
            "100/100 [==============================] - 43s 435ms/step - loss: 0.0212 - val_loss: 0.0259\n",
            "Epoch 82/150\n",
            "100/100 [==============================] - 44s 438ms/step - loss: 0.0195 - val_loss: 0.0251\n",
            "Epoch 83/150\n",
            "100/100 [==============================] - 43s 434ms/step - loss: 0.0205 - val_loss: 0.0244\n",
            "Epoch 84/150\n",
            "100/100 [==============================] - 44s 438ms/step - loss: 0.0206 - val_loss: 0.0254\n",
            "Epoch 85/150\n",
            "100/100 [==============================] - 43s 435ms/step - loss: 0.0208 - val_loss: 0.0281\n",
            "Epoch 86/150\n",
            "100/100 [==============================] - 43s 434ms/step - loss: 0.0197 - val_loss: 0.0252\n",
            "Epoch 87/150\n",
            "100/100 [==============================] - 44s 441ms/step - loss: 0.0195 - val_loss: 0.0248\n",
            "Epoch 88/150\n",
            "100/100 [==============================] - 44s 445ms/step - loss: 0.0200 - val_loss: 0.0262\n",
            "Epoch 89/150\n",
            "100/100 [==============================] - 44s 443ms/step - loss: 0.0192 - val_loss: 0.0246\n",
            "Epoch 90/150\n",
            "100/100 [==============================] - 45s 446ms/step - loss: 0.0196 - val_loss: 0.0240\n",
            "Epoch 91/150\n",
            "100/100 [==============================] - 44s 444ms/step - loss: 0.0193 - val_loss: 0.0260\n",
            "Epoch 92/150\n",
            "100/100 [==============================] - 44s 442ms/step - loss: 0.0197 - val_loss: 0.0284\n",
            "Epoch 93/150\n",
            "100/100 [==============================] - 44s 443ms/step - loss: 0.0181 - val_loss: 0.0237\n",
            "Epoch 94/150\n",
            "100/100 [==============================] - 44s 441ms/step - loss: 0.0190 - val_loss: 0.0239\n",
            "Epoch 95/150\n",
            "100/100 [==============================] - 44s 445ms/step - loss: 0.0187 - val_loss: 0.0255\n",
            "Epoch 96/150\n",
            "100/100 [==============================] - 44s 439ms/step - loss: 0.0184 - val_loss: 0.0243\n",
            "Epoch 97/150\n",
            "100/100 [==============================] - 44s 438ms/step - loss: 0.0191 - val_loss: 0.0250\n",
            "Epoch 98/150\n",
            "100/100 [==============================] - 44s 441ms/step - loss: 0.0186 - val_loss: 0.0271\n",
            "Epoch 99/150\n",
            "100/100 [==============================] - 44s 442ms/step - loss: 0.0194 - val_loss: 0.0302\n",
            "Epoch 100/150\n",
            "100/100 [==============================] - 44s 438ms/step - loss: 0.0174 - val_loss: 0.0236\n",
            "Epoch 101/150\n",
            "100/100 [==============================] - 44s 440ms/step - loss: 0.0188 - val_loss: 0.0267\n",
            "Epoch 102/150\n",
            "100/100 [==============================] - 44s 442ms/step - loss: 0.0182 - val_loss: 0.0246\n",
            "Epoch 103/150\n",
            "100/100 [==============================] - 44s 442ms/step - loss: 0.0178 - val_loss: 0.0242\n",
            "Epoch 104/150\n",
            "100/100 [==============================] - 44s 442ms/step - loss: 0.0183 - val_loss: 0.0254\n",
            "Epoch 105/150\n",
            "100/100 [==============================] - 44s 444ms/step - loss: 0.0183 - val_loss: 0.0284\n",
            "Epoch 106/150\n",
            "100/100 [==============================] - 44s 444ms/step - loss: 0.0190 - val_loss: 0.0310\n",
            "Epoch 107/150\n",
            "100/100 [==============================] - 44s 442ms/step - loss: 0.0167 - val_loss: 0.0247\n",
            "Epoch 108/150\n",
            "100/100 [==============================] - 45s 446ms/step - loss: 0.0181 - val_loss: 0.0286\n",
            "Epoch 109/150\n",
            "100/100 [==============================] - 44s 441ms/step - loss: 0.0176 - val_loss: 0.0248\n",
            "Epoch 110/150\n",
            "100/100 [==============================] - 44s 439ms/step - loss: 0.0174 - val_loss: 0.0246\n",
            "Epoch 111/150\n",
            "100/100 [==============================] - 44s 443ms/step - loss: 0.0175 - val_loss: 0.0253\n",
            "Epoch 112/150\n",
            "100/100 [==============================] - 44s 441ms/step - loss: 0.0173 - val_loss: 0.0294\n",
            "Epoch 113/150\n",
            "100/100 [==============================] - 43s 435ms/step - loss: 0.0179 - val_loss: 0.0274\n",
            "Epoch 114/150\n",
            "100/100 [==============================] - 44s 437ms/step - loss: 0.0161 - val_loss: 0.0265\n",
            "Epoch 115/150\n",
            "100/100 [==============================] - 44s 438ms/step - loss: 0.0176 - val_loss: 0.0285\n",
            "Epoch 116/150\n",
            "100/100 [==============================] - 44s 437ms/step - loss: 0.0163 - val_loss: 0.0253\n",
            "Epoch 117/150\n",
            "100/100 [==============================] - 43s 435ms/step - loss: 0.0165 - val_loss: 0.0242\n",
            "Epoch 118/150\n",
            "100/100 [==============================] - 44s 439ms/step - loss: 0.0166 - val_loss: 0.0252\n",
            "Epoch 119/150\n",
            "100/100 [==============================] - 43s 434ms/step - loss: 0.0165 - val_loss: 0.0310\n",
            "Epoch 120/150\n",
            "100/100 [==============================] - 43s 435ms/step - loss: 0.0172 - val_loss: 0.0267\n",
            "Epoch 121/150\n",
            "100/100 [==============================] - 43s 435ms/step - loss: 0.0150 - val_loss: 0.0280\n",
            "Epoch 122/150\n",
            "100/100 [==============================] - 44s 444ms/step - loss: 0.0163 - val_loss: 0.0294\n",
            "Epoch 123/150\n",
            "100/100 [==============================] - 45s 446ms/step - loss: 0.0154 - val_loss: 0.0265\n",
            "Epoch 124/150\n",
            "100/100 [==============================] - 44s 436ms/step - loss: 0.0159 - val_loss: 0.0251\n",
            "Epoch 125/150\n",
            "100/100 [==============================] - 44s 438ms/step - loss: 0.0160 - val_loss: 0.0264\n",
            "Epoch 126/150\n",
            "100/100 [==============================] - 44s 441ms/step - loss: 0.0160 - val_loss: 0.0301\n",
            "Epoch 127/150\n",
            "100/100 [==============================] - 44s 441ms/step - loss: 0.0166 - val_loss: 0.0268\n",
            "Epoch 128/150\n",
            "100/100 [==============================] - 44s 441ms/step - loss: 0.0148 - val_loss: 0.0278\n",
            "Epoch 129/150\n",
            "100/100 [==============================] - 45s 447ms/step - loss: 0.0161 - val_loss: 0.0295\n",
            "Epoch 130/150\n",
            "100/100 [==============================] - 45s 449ms/step - loss: 0.0151 - val_loss: 0.0265\n",
            "Epoch 131/150\n",
            "100/100 [==============================] - 44s 442ms/step - loss: 0.0153 - val_loss: 0.0261\n",
            "Epoch 132/150\n",
            "100/100 [==============================] - 44s 441ms/step - loss: 0.0150 - val_loss: 0.0283\n",
            "Epoch 133/150\n",
            "100/100 [==============================] - 44s 446ms/step - loss: 0.0151 - val_loss: 0.0281\n",
            "Epoch 134/150\n",
            "100/100 [==============================] - 44s 439ms/step - loss: 0.0152 - val_loss: 0.0290\n",
            "Epoch 135/150\n",
            "100/100 [==============================] - 44s 439ms/step - loss: 0.0144 - val_loss: 0.0277\n",
            "Epoch 136/150\n",
            "100/100 [==============================] - 44s 439ms/step - loss: 0.0156 - val_loss: 0.0287\n",
            "Epoch 137/150\n",
            "100/100 [==============================] - 44s 440ms/step - loss: 0.0140 - val_loss: 0.0277\n",
            "Epoch 138/150\n",
            "100/100 [==============================] - 44s 438ms/step - loss: 0.0141 - val_loss: 0.0282\n",
            "Epoch 139/150\n",
            "100/100 [==============================] - 44s 437ms/step - loss: 0.0146 - val_loss: 0.0275\n",
            "Epoch 140/150\n",
            "100/100 [==============================] - 44s 440ms/step - loss: 0.0146 - val_loss: 0.0289\n",
            "Epoch 141/150\n",
            "100/100 [==============================] - 44s 442ms/step - loss: 0.0141 - val_loss: 0.0272\n",
            "Epoch 142/150\n",
            "100/100 [==============================] - 44s 437ms/step - loss: 0.0136 - val_loss: 0.0292\n",
            "Epoch 143/150\n",
            "100/100 [==============================] - 44s 438ms/step - loss: 0.0146 - val_loss: 0.0274\n",
            "Epoch 144/150\n",
            "100/100 [==============================] - 44s 439ms/step - loss: 0.0139 - val_loss: 0.0273\n",
            "Epoch 145/150\n",
            "100/100 [==============================] - 44s 443ms/step - loss: 0.0144 - val_loss: 0.0285\n",
            "Epoch 146/150\n",
            "100/100 [==============================] - 44s 438ms/step - loss: 0.0138 - val_loss: 0.0286\n",
            "Epoch 147/150\n",
            "100/100 [==============================] - 44s 438ms/step - loss: 0.0139 - val_loss: 0.0303\n",
            "Epoch 148/150\n",
            "100/100 [==============================] - 44s 438ms/step - loss: 0.0132 - val_loss: 0.0289\n",
            "Epoch 149/150\n",
            "100/100 [==============================] - 44s 440ms/step - loss: 0.0132 - val_loss: 0.0283\n",
            "Epoch 150/150\n",
            "100/100 [==============================] - 43s 435ms/step - loss: 0.0133 - val_loss: 0.0271\n"
          ]
        }
      ]
    },
    {
      "cell_type": "code",
      "source": [
        "# create model\n",
        "from tensorflow import keras\n",
        "from keras.models import Sequential\n",
        "from keras import layers\n",
        "from keras.layers import LSTM, TimeDistributed\n",
        "enco_deco = Sequential()\n",
        "# Encoder\n",
        "enco_deco.add(LSTM(100, input_shape=x_train_uni.shape[-2:], return_sequences=True))\n",
        "enco_deco.add(LSTM(units=50,return_sequences=True))\n",
        "enco_deco.add(LSTM(units=15))\n",
        "#feature vector\n",
        "enco_deco.add(layers.RepeatVector(y_train_uni.shape[1]))\n",
        "#decoder\n",
        "enco_deco.add(LSTM(units=100,return_sequences=True))\n",
        "enco_deco.add(LSTM(units=50,return_sequences=True))\n",
        "enco_deco.add(TimeDistributed(tf.keras.layers.Dense(units=1)))"
      ],
      "metadata": {
        "id": "VEmY67Bt3byF"
      },
      "execution_count": null,
      "outputs": []
    },
    {
      "cell_type": "code",
      "source": [
        "enco_deco.summary()"
      ],
      "metadata": {
        "colab": {
          "base_uri": "https://localhost:8080/"
        },
        "id": "Sz9g7yy9Fn7e",
        "outputId": "5892f5f3-1494-4587-da5d-e68db604b2fd"
      },
      "execution_count": null,
      "outputs": [
        {
          "output_type": "stream",
          "name": "stdout",
          "text": [
            "Model: \"sequential_3\"\n",
            "_________________________________________________________________\n",
            " Layer (type)                Output Shape              Param #   \n",
            "=================================================================\n",
            " lstm_13 (LSTM)              (None, 48, 100)           40800     \n",
            "                                                                 \n",
            " lstm_14 (LSTM)              (None, 48, 50)            30200     \n",
            "                                                                 \n",
            " lstm_15 (LSTM)              (None, 15)                3960      \n",
            "                                                                 \n",
            " repeat_vector_2 (RepeatVect  (None, 10, 15)           0         \n",
            " or)                                                             \n",
            "                                                                 \n",
            " lstm_16 (LSTM)              (None, 10, 100)           46400     \n",
            "                                                                 \n",
            " lstm_17 (LSTM)              (None, 10, 50)            30200     \n",
            "                                                                 \n",
            " time_distributed_1 (TimeDis  (None, 10, 1)            51        \n",
            " tributed)                                                       \n",
            "                                                                 \n",
            "=================================================================\n",
            "Total params: 151,611\n",
            "Trainable params: 151,611\n",
            "Non-trainable params: 0\n",
            "_________________________________________________________________\n"
          ]
        }
      ]
    },
    {
      "cell_type": "code",
      "source": [
        "uni = data['traffic_volume']\n",
        "validatehori = uni.tail(48)"
      ],
      "metadata": {
        "id": "Q8jboYHiF2Nl"
      },
      "execution_count": null,
      "outputs": []
    },
    {
      "cell_type": "code",
      "source": [
        "validatehist = validatehori.values\n",
        "scaler_val = preprocessing.MinMaxScaler()\n",
        "val_rescaled = scaler_x.fit_transform(validatehist.reshape(-1, 1))"
      ],
      "metadata": {
        "id": "EAEQcrUPF-24"
      },
      "execution_count": null,
      "outputs": []
    },
    {
      "cell_type": "code",
      "source": [
        "val_rescaled = val_rescaled.reshape((1, val_rescaled.shape[0], 1))"
      ],
      "metadata": {
        "id": "iO8VJs18GA45"
      },
      "execution_count": null,
      "outputs": []
    },
    {
      "cell_type": "code",
      "source": [
        "Predicted_results = ED_lstm_model.predict(val_rescaled)"
      ],
      "metadata": {
        "id": "_RBuo6X0GDSj"
      },
      "execution_count": null,
      "outputs": []
    },
    {
      "cell_type": "code",
      "source": [
        "Predicted_results"
      ],
      "metadata": {
        "colab": {
          "base_uri": "https://localhost:8080/"
        },
        "id": "uy1PVpaEGKRD",
        "outputId": "d570a060-0bc8-48ee-db34-dab9ed581794"
      },
      "execution_count": null,
      "outputs": [
        {
          "output_type": "execute_result",
          "data": {
            "text/plain": [
              "array([[[0.6388559 ],\n",
              "        [0.63769186],\n",
              "        [0.63238335],\n",
              "        [0.6240387 ],\n",
              "        [0.60370827],\n",
              "        [0.5555512 ],\n",
              "        [0.4813918 ],\n",
              "        [0.40486968],\n",
              "        [0.33662346],\n",
              "        [0.27134418]]], dtype=float32)"
            ]
          },
          "metadata": {},
          "execution_count": 56
        }
      ]
    },
    {
      "cell_type": "code",
      "source": [
        "Predicted_inver_res = scaler_x.inverse_transform(Predicted_results[0])"
      ],
      "metadata": {
        "id": "DjIvp4H5GTYd"
      },
      "execution_count": null,
      "outputs": []
    },
    {
      "cell_type": "code",
      "source": [
        "Predicted_inver_res"
      ],
      "metadata": {
        "colab": {
          "base_uri": "https://localhost:8080/"
        },
        "id": "EhvKk2EpGWsM",
        "outputId": "ce417f1b-c226-4ff1-d56f-969326d7c549"
      },
      "execution_count": null,
      "outputs": [
        {
          "output_type": "execute_result",
          "data": {
            "text/plain": [
              "array([[4074.2234],\n",
              "       [4067.4104],\n",
              "       [4036.3396],\n",
              "       [3987.4985],\n",
              "       [3868.5044],\n",
              "       [3586.6409],\n",
              "       [3152.5862],\n",
              "       [2704.7021],\n",
              "       [2305.257 ],\n",
              "       [1923.1775]], dtype=float32)"
            ]
          },
          "metadata": {},
          "execution_count": 58
        }
      ]
    },
    {
      "cell_type": "code",
      "source": [
        "from sklearn import metrics\n",
        "def timeseries_evaluation_metrics_func(y_true, y_pred):\n",
        "    \n",
        "    def mean_absolute_percentage_error(y_true, y_pred): \n",
        "        y_true, y_pred = np.array(y_true), np.array(y_pred)\n",
        "        return np.mean(np.abs((y_true - y_pred) / y_true)) * 100\n",
        "    print('Evaluation metric results:-')\n",
        "    print(f'MSE is : {metrics.mean_squared_error(validate,Predicted_inver_res)}')\n",
        "    print(f'MAE is : {metrics.mean_absolute_error(validate,Predicted_inver_res)}')\n",
        "    print(f'RMSE is : {np.sqrt(metrics.mean_squared_error(validate,Predicted_inver_res))}')\n",
        "    print(f'MAPE is : {mean_absolute_percentage_error(validate,Predicted_inver_res)}')\n",
        "    print(f'R2 is : {metrics.r2_score(validate,Predicted_inver_res)}',end='\\n\\n')"
      ],
      "metadata": {
        "id": "p4k0XVx9GZ0L"
      },
      "execution_count": null,
      "outputs": []
    },
    {
      "cell_type": "code",
      "source": [
        "timeseries_evaluation_metrics_func(validate,Predicted_inver_res)"
      ],
      "metadata": {
        "colab": {
          "base_uri": "https://localhost:8080/"
        },
        "id": "Nu70OsCiGdRJ",
        "outputId": "32745070-6c68-468a-f93c-67f63d4cf68d"
      },
      "execution_count": null,
      "outputs": [
        {
          "output_type": "stream",
          "name": "stdout",
          "text": [
            "Evaluation metric results:-\n",
            "MSE is : 255229.7545795381\n",
            "MAE is : 408.9387451171875\n",
            "RMSE is : 505.202686631354\n",
            "MAPE is : 59.963241499333805\n",
            "R2 is : 0.8343010016255124\n",
            "\n"
          ]
        }
      ]
    },
    {
      "cell_type": "code",
      "source": [
        "plt.plot( list(validate))\n",
        "plt.plot( list(Predicted_inver_res))\n",
        "plt.title(\"Actual vs Predicted\")\n",
        "plt.ylabel(\"Traffic volume\")\n",
        "plt.legend(('Actual','predicted'))\n",
        "plt.rcParams[\"figure.figsize\"] = [16,9]\n",
        "plt.show()"
      ],
      "metadata": {
        "colab": {
          "base_uri": "https://localhost:8080/",
          "height": 488
        },
        "id": "HxnIvJ-2GnUd",
        "outputId": "7a8c63b0-b0ae-40de-cce9-8c8bde1f2e76"
      },
      "execution_count": null,
      "outputs": [
        {
          "output_type": "display_data",
          "data": {
            "image/png": "[encoded data removed]",
            "text/plain": [
              "<Figure size 1152x648 with 1 Axes>"
            ]
          },
          "metadata": {
            "needs_background": "light"
          }
        }
      ]
    }
  ]
}